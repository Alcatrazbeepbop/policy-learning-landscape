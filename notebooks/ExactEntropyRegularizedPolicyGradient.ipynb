{
  "nbformat": 4,
  "nbformat_minor": 0,
  "metadata": {
    "colab": {
      "name": "ExactEntropyRegularizedPolicyGradient.ipynb",
      "version": "0.3.2",
      "provenance": [],
      "collapsed_sections": [
        "g9Uu9n6-rQEq",
        "Vy2E9igiaY8f"
      ]
    },
    "kernelspec": {
      "name": "python3",
      "display_name": "Python 3"
    }
  },
  "cells": [
    {
      "metadata": {
        "id": "g9Uu9n6-rQEq",
        "colab_type": "text"
      },
      "cell_type": "markdown",
      "source": [
        "##### Copyright 2018 Google LLC.\n",
        "\n",
        "Licensed under the Apache License, Version 2.0 (the \"License\");\n",
        "SPDX-License-Identifier: Apache-2.0"
      ]
    },
    {
      "metadata": {
        "id": "LXrEc0PsrLu8",
        "colab_type": "code",
        "colab": {}
      },
      "cell_type": "code",
      "source": [
        "# Licensed under the Apache License, Version 2.0 (the \"License\");\n",
        "# you may not use this file except in compliance with the License.\n",
        "# You may obtain a copy of the License at\n",
        "#\n",
        "# https://www.apache.org/licenses/LICENSE-2.0\n",
        "#\n",
        "# Unless required by applicable law or agreed to in writing, software\n",
        "# distributed under the License is distributed on an \"AS IS\" BASIS,\n",
        "# WITHOUT WARRANTIES OR CONDITIONS OF ANY KIND, either express or implied.\n",
        "# See the License for the specific language governing permissions and\n",
        "# limitations under the License."
      ],
      "execution_count": 0,
      "outputs": []
    },
    {
      "metadata": {
        "id": "eAU8jLpqqtx9",
        "colab_type": "text"
      },
      "cell_type": "markdown",
      "source": [
        "\n",
        "\n",
        "##### Instructions to run on Colab:.\n",
        "\n",
        "1. Run the cell below to install dependencies and then _restart the runtime_.\n",
        "2. Continue from the cell after that in the new runtime.\n",
        "\n"
      ]
    },
    {
      "metadata": {
        "id": "AD01aIK7qooe",
        "colab_type": "code",
        "colab": {
          "base_uri": "https://localhost:8080/",
          "height": 207
        },
        "cellView": "form",
        "outputId": "0460aad0-c57a-41f2-c656-d7361dde80ab"
      },
      "cell_type": "code",
      "source": [
        "#@title Click Install dependencies.\n",
        "!pip install http://download.pytorch.org/whl/cpu/torch-0.4.1-cp36-cp36m-linux_x86_64.whl  # PyTorch\n",
        "!pip install -e git+https://github.com/zafarali/emdp.git#egg=emdp --user  # MDP Simulator"
      ],
      "execution_count": 1,
      "outputs": [
        {
          "output_type": "stream",
          "text": [
            "Collecting torch==0.4.1 from http://download.pytorch.org/whl/cpu/torch-0.4.1-cp36-cp36m-linux_x86_64.whl\n",
            "\u001b[?25l  Downloading http://download.pytorch.org/whl/cpu/torch-0.4.1-cp36-cp36m-linux_x86_64.whl (91.1MB)\n",
            "\u001b[K    100% |████████████████████████████████| 91.1MB 38.6MB/s \n",
            "\u001b[?25hInstalling collected packages: torch\n",
            "Successfully installed torch-0.4.1\n",
            "Obtaining emdp from git+https://github.com/zafarali/emdp.git#egg=emdp\n",
            "  Cloning https://github.com/zafarali/emdp.git to ./src/emdp\n",
            "Requirement already satisfied: numpy>=1.9.1 in /usr/local/lib/python3.6/dist-packages (from emdp) (1.14.6)\n",
            "Installing collected packages: emdp\n",
            "  Running setup.py develop for emdp\n",
            "Successfully installed emdp\n"
          ],
          "name": "stdout"
        }
      ]
    },
    {
      "metadata": {
        "id": "8y4TUjgRr7iT",
        "colab_type": "text"
      },
      "cell_type": "markdown",
      "source": [
        "##### Library of tools to simplify experiments"
      ]
    },
    {
      "metadata": {
        "id": "FcLDMr-EsWu4",
        "colab_type": "code",
        "colab": {
          "base_uri": "https://localhost:8080/",
          "height": 86
        },
        "cellView": "form",
        "outputId": "ee371564-f20c-4b7d-e382-a7661dd1bfe4"
      },
      "cell_type": "code",
      "source": [
        "#@title Run to initialize a small library of components to simplify experiments.\n",
        "%pylab inline\n",
        "import copy\n",
        "import io\n",
        "import json\n",
        "\n",
        "import numpy as np\n",
        "import seaborn as sns\n",
        "import torch\n",
        "from torch import nn\n",
        "from torch import autograd\n",
        "\n",
        "from emdp import examples\n",
        "from emdp import actions\n",
        "from emdp import analytic\n",
        "\n",
        "sns.set_style('whitegrid')\n",
        "sns.set_context('paper', font_scale=1.5)\n",
        "\n",
        "class Policy(nn.Module):\n",
        "  def __init__(self, state_space, action_space, mix_coeff=0.0):\n",
        "    \"\"\"A simple linear policy.\n",
        "    Args:\n",
        "      state_space: An int representing the size of the input vectors.\n",
        "      action_space: An int representing the number of available actions.\n",
        "      mix_coeff: Controls the stochasticity of the policy.\n",
        "    \"\"\"\n",
        "    super().__init__()\n",
        "    self.linear = nn.Linear(state_space, action_space)\n",
        "    self.softmax = nn.Softmax(1)\n",
        "    self.mix_coeff = mix_coeff\n",
        "    self.action_space = action_space\n",
        "\n",
        "  def forward(self, states):\n",
        "    \"\"\"Returns a probabilities over actions for a batch of states\n",
        "    \n",
        "    Args:\n",
        "      states: torch.FloatTensor shape |B| x |S|\n",
        "    \n",
        "    Returns:\n",
        "      actions: torch.FloatTensor of shape |B| x |A| representing the probability\n",
        "        of taking each action in a state of the batch.\n",
        "    \"\"\"\n",
        "    logits = self.linear(states)\n",
        "    probs = self.softmax(logits)\n",
        "    scaled_probs = (1-self.mix_coeff) * probs\n",
        "    unif_probs = self.mix_coeff * 1/self.action_space\n",
        "    mixed_probs = scaled_probs + unif_probs\n",
        "    return mixed_probs\n",
        "\n",
        "\n",
        "\n",
        "class History(object):\n",
        "  \"\"\"Store data about training.\"\"\"\n",
        "\n",
        "  def __init__(self):\n",
        "    self.history = {\n",
        "      'true_objective':[],\n",
        "      'opt_objective':[],\n",
        "      'update':[],\n",
        "      'mean_ent': []\n",
        "    }\n",
        "  def update(self, i, true, opt, ent):\n",
        "    self.history['true_objective'].append(true)\n",
        "    self.history['opt_objective'].append(opt)\n",
        "    self.history['update'].append(i)\n",
        "    self.history['mean_ent'].append(ent)\n",
        "\n",
        "\n",
        "def evaluate_policy(grid_world, policy, w_reward=1.0, w_ent=0.0):\n",
        "  \"\"\"Evaluates the policy exactly.\n",
        "  \n",
        "  Args:\n",
        "    grid_world: The empd.MDP with accessible transition dynamics.\n",
        "    policy: A torch nn.Module that returns a softmax over actions given state.\n",
        "    w_reward: A float weighting for the reward term.\n",
        "    w_ent: A float weighting for the entropy term.\n",
        "\n",
        "  Returns:\n",
        "    The exact expected discounted return.\n",
        "  \"\"\"\n",
        "  with torch.no_grad():\n",
        "    pi = policy(torch.eye(mdp.state_space)).detach().numpy()\n",
        "    H = (-pi*np.log(pi)).sum(1).reshape(-1, 1)\n",
        "    augmented_reward = w_reward * mdp.R + w_ent * H\n",
        "    return (\n",
        "      analytic.calculate_V_pi(\n",
        "        mdp.P, augmented_reward , pi, mdp.gamma) * mdp.p0).sum()\n",
        "\n",
        "def interpolate_between_policy_parameters(\n",
        "  start_params,\n",
        "  end_params,\n",
        "  grid_world,\n",
        "  policy,\n",
        "  alpha_start=-0.5,\n",
        "  alpha_end=1.5,\n",
        "  n_alphas=50,\n",
        "  w_ent=0.0):\n",
        "  \"\"\"Interpolates between policy parameters for a gridworld.\n",
        "  \n",
        "  Args:\n",
        "    start_params: The flattened starting parameter vector.\n",
        "    end_params: The flattened ending parameter vector.\n",
        "    grid_world: The emdp.MDP with accessible transition dynamics.\n",
        "    policy: A torch nn.Module whose parameters can be reset. Note that this will\n",
        "      overwrite the policy so it is best to make a copy using `copy.deepcopy`.\n",
        "    alpha_start: The float starting point for the interpolation.\n",
        "    alpha_end: The float ending point for the interpolation.\n",
        "    n_alphas: The number of points between the starting and ending points to do\n",
        "      the interpolations in between.\n",
        "    w_ent: The weighting for the entropy term.\n",
        "  \n",
        "  Returns:\n",
        "    alphas: The points along the interpolation at which evaluations were made.\n",
        "    E_vpi: The true expected discounted reward (no weighting term).\n",
        "    E_vpi_regularized: The entropy agumented discounted reward.\n",
        "    E_vpi_ent_only: The expected discounted entropy.\n",
        "  \"\"\"\n",
        "\n",
        "  alphas = []\n",
        "  E_vpi = []\n",
        "  E_vpi_regularized = []\n",
        "  E_vpi_ent_only = []\n",
        "  for alpha in np.linspace(alpha_start, alpha_end, n_alphas):\n",
        "    params = (1 - alpha) * start_params + alpha * end_params\n",
        "    if isinstance(params, np.ndarray):\n",
        "      params = torch.FloatTensor(params)\n",
        "    nn.utils.vector_to_parameters(params, policy.parameters())\n",
        "    try:\n",
        "      alphas.append(alpha)\n",
        "      V_pi = evaluate_policy(\n",
        "        grid_world, policy, w_reward=1.0, w_ent=0.0)\n",
        "      E_vpi.append(V_pi)\n",
        "\n",
        "      V_pi_reg = evaluate_policy(\n",
        "        grid_world, policy, w_reward=1.0, w_ent=w_ent)\n",
        "      E_vpi_regularized.append(V_pi_reg)\n",
        "      \n",
        "      V_vpi_ent_only = evaluate_policy(\n",
        "        grid_world, policy, w_reward=0.0, w_ent=w_ent)\n",
        "      E_vpi_ent_only.append(V_vpi_ent_only)\n",
        "\n",
        "    except np.linalg.linalg.LinAlgError as e:\n",
        "      print('LinAlgError: {} for {}. Skipping this.'.format(e, alpha))\n",
        "      continue\n",
        "\n",
        "  alphas = np.array(alphas)\n",
        "  E_vpi = np.array(E_vpi)\n",
        "  E_vpi_regularized = np.array(E_vpi_regularized)\n",
        "  E_vpi_ent_only = np.array(E_vpi_ent_only)\n",
        "  return alphas, E_vpi, E_vpi_regularized, E_vpi_ent_only\n",
        "\n",
        "\n",
        "def train(\n",
        "  mdp,\n",
        "  policy, \n",
        "  learn_updates=500,\n",
        "  w_reward=1.0,\n",
        "  w_ent=0.0,\n",
        "  w_ent_decay=1.0,\n",
        "  print_interval=10,\n",
        "  step_size=0.1,\n",
        "  update_counts=0,\n",
        "  history=None):\n",
        "  \"\"\"Trains a policy in an mdp using gradient ascent.\n",
        "\n",
        "  Args:\n",
        "    mdp: The emdp.MDP to train on. \n",
        "    policy: The nn.Module that represents the policy.\n",
        "    learn_updates: The number of updates to train for.\n",
        "    w_reward: A float weighting for the reward term.\n",
        "    w_ent: A float weighting for the entropy term.\n",
        "    w_ent_decay: A float <=1.0 representing how much to decay the w_ent term at\n",
        "      every update.\n",
        "    print_interval: The number of intervals after which to print.\n",
        "    step_size: The step size for the updates.\n",
        "    update_counts: An integer representing what number to start the counting at.\n",
        "      Use this to continue learning.\n",
        "    history: A History object. Use only when continuing the learning process.\n",
        "\n",
        "  Returns:\n",
        "    history: A History object containing learning curves.\n",
        "  \"\"\"\n",
        "  if history is None:\n",
        "    history = History()\n",
        "  else:\n",
        "    update_counts = history.history['update'][-1]\n",
        "  \n",
        "  for i in range(learn_updates):\n",
        "    true_obj_val = evaluate_policy(mdp, policy)\n",
        "    policy.zero_grad()\n",
        "    \n",
        "    # Glossary of terms and shapes.\n",
        "    # Probability for each action in each state:\n",
        "    pi = policy(torch.eye(mdp.state_space))  # |S| x |A|.\n",
        "\n",
        "    # Reward for each action in each state:\n",
        "    mdp.R  # |S| x |A|.\n",
        "\n",
        "    # Transition probability for going from s to s' by taking action a:\n",
        "    mdp.P  # |S| x |A| x |S|.\n",
        "\n",
        "    # Entropy for the probability at each state.\n",
        "    H = (-pi*pi.log()).sum(1)  # |S|, \n",
        "\n",
        "    # Augmented reward for each action in each state.\n",
        "    augmented_reward = (\n",
        "      w_reward * mdp.R + w_ent * H.detach().numpy().reshape(-1, 1))  # |S| x |A|\n",
        "\n",
        "    # A numpy representation of the policy (to detach gradients from graph.)\n",
        "    pi_numpy = pi.detach().numpy()\n",
        "\n",
        "    # We use emdp.analytic library to compute analytic things.\n",
        "    # Expected transition matrix.\n",
        "    P_pi = analytic.calculate_P_pi(mdp.P, pi_numpy)  # |S| x |S| \n",
        "\n",
        "    # Discounted state occupancy of going from any s to s', (I-gamma * P_pi)^-1.\n",
        "    Phi = analytic.calculate_successor_representation(\n",
        "      P_pi, mdp.gamma)  # |S| x |S|  \n",
        "    \n",
        "    # Expected reward for transitioning from a state.\n",
        "    R_pi = analytic.calculate_R_pi(augmented_reward, pi_numpy)  # |S|\n",
        "\n",
        "    # Expected discounted return from a given state.\n",
        "    V_pi = analytic.calculate_V_pi_from_successor_representation(\n",
        "      Phi, R_pi)  # |S|, \n",
        "\n",
        "    #  The state-action values.\n",
        "    Q_pi = (\n",
        "      augmented_reward + mdp.gamma * np.einsum(\n",
        "        'sat,t->sa', mdp.P, V_pi))  # |S| x |A|\n",
        "    \n",
        "    # Sanity check:\n",
        "    assert np.allclose(np.einsum('sa,sa->s', pi_numpy, Q_pi), V_pi), \\\n",
        "    'Q averaged over all actions is equal to V.'\n",
        "    # Discounted state occupancy from the initial state.\n",
        "    d_pi = Phi[mdp.p0.argmax()]\n",
        "    \n",
        "    # Do some bookkeeping.\n",
        "    mean_ent = H.mean()\n",
        "    opt_obj_val = (mdp.p0 * V_pi).sum()\n",
        "    if i % print_interval == 0:\n",
        "      print('updates: {}, true: {:.3f} opt: {:.3f} mean_ent: {:.3f}'.format(\n",
        "        update_counts, true_obj_val, opt_obj_val, mean_ent))\n",
        "    history.update(update_counts, true_obj_val, opt_obj_val, mean_ent)\n",
        "\n",
        "    # Float casting to make sure we do not differentiate through these.\n",
        "    d_pi_torch = torch.FloatTensor(d_pi)\n",
        "    pi_detached = torch.FloatTensor(pi_numpy)\n",
        "\n",
        "    # Now calculating the loss function suitable for autodiff.\n",
        "    autodiff_surrogate_per_state_action = (\n",
        "      pi.log() * torch.FloatTensor(Q_pi) + (w_ent * H).view(-1, 1))\n",
        "    autodiff_surrogate_per_state = torch.einsum(\n",
        "      'sa,sa->s', (pi_detached, autodiff_surrogate_per_state_action))\n",
        "    autodiff_surrogate = torch.einsum(\n",
        "      's,s->', (d_pi_torch, autodiff_surrogate_per_state))\n",
        "    # print('surrogate:{}'.format(autodiff_surrogate))\n",
        "    gradients = autograd.grad(\n",
        "      autodiff_surrogate, policy.parameters(), retain_graph=True)\n",
        "\n",
        "    # Apply gradient updates:\n",
        "    for g, p in zip(gradients, policy.parameters()):\n",
        "      p.data.add_(step_size * g)\n",
        "    update_counts += 1\n",
        "\n",
        "    # Decay the entropy.\n",
        "    if w_ent_decay < 1:\n",
        "      w_ent = w_ent * w_ent_decay\n",
        "  return history\n",
        "\n",
        "\n",
        "\n"
      ],
      "execution_count": 11,
      "outputs": [
        {
          "output_type": "stream",
          "text": [
            "Populating the interactive namespace from numpy and matplotlib\n"
          ],
          "name": "stdout"
        },
        {
          "output_type": "stream",
          "text": [
            "/usr/local/lib/python3.6/dist-packages/IPython/core/magics/pylab.py:161: UserWarning: pylab import has clobbered these variables: ['copy']\n",
            "`%matplotlib` prevents importing * from pylab and numpy\n",
            "  \"\\n`%matplotlib` prevents importing * from pylab and numpy\"\n"
          ],
          "name": "stderr"
        }
      ]
    },
    {
      "metadata": {
        "id": "1Wf5eNYCsVhH",
        "colab_type": "text"
      },
      "cell_type": "markdown",
      "source": [
        "# Experiment: Exploring the impact of entropy regularization in the exact gradient setting.\n",
        "\n",
        "We are interested in knowing a few things:\n",
        "\n",
        "1. Is high variance the main issue with policy learning?\n",
        "2. Does entropy regularization help find better policies?\n",
        "3. Why does it help?"
      ]
    },
    {
      "metadata": {
        "id": "u6FWUF9KwrG8",
        "colab_type": "code",
        "colab": {
          "base_uri": "https://localhost:8080/",
          "height": 52
        },
        "outputId": "28917136-f978-4c6d-d935-a361fd8eef8a"
      },
      "cell_type": "code",
      "source": [
        "# Make the required grid world as explained in the manuscript.\n",
        "eps = 0.9\n",
        "best_reward = 5.0\n",
        "grid_size = 5\n",
        "mdp, reward_spec = examples.tricky_gridworlds.make_symmetric_epsilon_reward_env(\n",
        "  eps, best_reward=best_reward, size=grid_size)\n",
        "\n",
        "# Print out values for crosscheck.\n",
        "# These values are what our optimization algorithm should find.\n",
        "print('best possible return is {}'.format(\n",
        "  np.max(mdp.R) * mdp.gamma ** (mdp.size-1)))\n",
        "print('suboptimal return is {}'.format(\n",
        "  np.min(mdp.R[np.nonzero(mdp.R)]) * mdp.gamma ** (mdp.size-1)))"
      ],
      "execution_count": 3,
      "outputs": [
        {
          "output_type": "stream",
          "text": [
            "best possible return is 4.8029800499999995\n",
            "suboptimal return is 4.322682045\n"
          ],
          "name": "stdout"
        }
      ]
    },
    {
      "metadata": {
        "id": "KER4la93w6jU",
        "colab_type": "text"
      },
      "cell_type": "markdown",
      "source": [
        "## Training without entropy regularization.\n",
        "\n",
        "Use this to get a count of the number of suboptimal policies found. Also keep track of the seeds which produce suboptimal policies so that we can try those under entropy regularization."
      ]
    },
    {
      "metadata": {
        "id": "ZXU_tTFfw6OR",
        "colab_type": "code",
        "colab": {},
        "cellView": "both"
      },
      "cell_type": "code",
      "source": [
        "w_ent = 0.0  # Entropy coefficient.\n",
        "w_r = 1.0  # Reward weight.\n",
        "histories = []\n",
        "step_size = 0.1\n",
        "learn_updates = 1500\n",
        "final_returns = []\n",
        "for i in range(5,6):\n",
        "  print('Run {}'.format(i))\n",
        "  torch.manual_seed(i)  # Set the seed for reproducible runs.\n",
        "  policy = Policy(mdp.state_space, mdp.action_space)\n",
        "  histories.append(\n",
        "    train(mdp, policy, learn_updates=learn_updates, w_ent=w_ent, w_reward=w_r,\n",
        "          step_size=step_size, print_interval=learn_updates-1))\n",
        "  final_returns.append(histories[-1].history['true_objective'][-1])"
      ],
      "execution_count": 0,
      "outputs": []
    },
    {
      "metadata": {
        "id": "xPo27lPZxh5q",
        "colab_type": "code",
        "colab": {}
      },
      "cell_type": "code",
      "source": [
        "plt.hist(final_returns)\n",
        "plt.title('Distribution of policy returns.')\n",
        "plt.xlabel('Return')\n",
        "plt.ylabel('Count')"
      ],
      "execution_count": 0,
      "outputs": []
    },
    {
      "metadata": {
        "id": "KKEPpr8Rwq0G",
        "colab_type": "text"
      },
      "cell_type": "markdown",
      "source": [
        "## Training with entropy regularization."
      ]
    },
    {
      "metadata": {
        "id": "EYAU46j3xovf",
        "colab_type": "code",
        "colab": {},
        "cellView": "code"
      },
      "cell_type": "code",
      "source": [
        "#@title Use sliders to easily change parameters.\n",
        "w_ent = 0 #@param {type:\"slider\", min:0, max:5, step:0.1}\n",
        "w_r = 1.0  # Reward weight.\n",
        "histories_regularized = []\n",
        "step_size = 0.1 #@param {type:\"slider\", min:0, max:1, step:0.05}\n",
        "w_ent_decay = 1.0 #@param {type:\"slider\", min:0, max:1, step:0.01}\n",
        "final_returns_regularized = []\n",
        "\n",
        "for i in range(20):\n",
        "  print('Run {}'.format(i))\n",
        "  torch.manual_seed(i)  # Set the seed for reproducible runs.\n",
        "  policy = Policy(mdp.state_space, mdp.action_space)\n",
        "  histories.append(\n",
        "    train(\n",
        "      mdp, policy, learn_updates=learn_updates,\n",
        "      w_ent=w_ent, w_reward=w_r, w_ent_decay=w_ent_decay,\n",
        "      step_size=step_size, print_interval=learn_updates-1))\n",
        "  final_returns_regularized.append(\n",
        "    histories_regularized[-1].history['true_objective'][-1])"
      ],
      "execution_count": 0,
      "outputs": []
    },
    {
      "metadata": {
        "id": "wSflCgXl0vhw",
        "colab_type": "text"
      },
      "cell_type": "markdown",
      "source": [
        "## Linear Interpolations\n"
      ]
    },
    {
      "metadata": {
        "id": "a2beWx1LX77M",
        "colab_type": "text"
      },
      "cell_type": "markdown",
      "source": [
        "### Interpolating Deterministic policies"
      ]
    },
    {
      "metadata": {
        "id": "qy2GK7_u0u4s",
        "colab_type": "code",
        "colab": {}
      },
      "cell_type": "code",
      "source": [
        "policy = Policy(mdp.state_space, mdp.action_space)\n",
        "\n",
        "# Get the policy that goes all right by setting the logits:\n",
        "params_deterministic_right = torch.ones(mdp.action_space, mdp.state_space) * -20\n",
        "params_deterministic_right[actions.RIGHT] = 0\n",
        "bias = torch.zeros(mdp.action_space)\n",
        "\n",
        "right_policy = copy.deepcopy(policy)\n",
        "for to_set, p in zip(\n",
        "  [params_deterministic_right, bias], right_policy.parameters()):\n",
        "  p.data.set_(to_set)\n",
        "\n",
        "# Get the policy that goes all right by setting the logits:\n",
        "params_deterministic_down = torch.ones(mdp.action_space, mdp.state_space) * -20\n",
        "params_deterministic_down[actions.DOWN] = 0\n",
        "bias = torch.zeros(mdp.action_space)\n",
        "down_policy = copy.deepcopy(policy)\n",
        "for to_set, p in zip(\n",
        "  [params_deterministic_down, bias], down_policy.parameters()):\n",
        "  p.data.set_(to_set)\n",
        "\n",
        "# Detach and numpy to get copies.\n",
        "down_parameters = nn.utils.parameters_to_vector(\n",
        "  down_policy.parameters()).detach().numpy()\n",
        "right_parameters = nn.utils.parameters_to_vector(\n",
        "  right_policy.parameters()).detach().numpy()"
      ],
      "execution_count": 0,
      "outputs": []
    },
    {
      "metadata": {
        "id": "PkCswZEPW2gf",
        "colab_type": "code",
        "colab": {},
        "cellView": "form"
      },
      "cell_type": "code",
      "source": [
        "mix_coefficient = 0.43 #@param {type:\"slider\", min:0, max:1, step:0.01}\n",
        "policy = Policy(mdp.state_space, mdp.action_space, mix_coefficient=1.0)\n",
        "\n",
        "alphas, Vpi, Vpi_reg, V_pi_ent = interpolate_between_policy_parameters(\n",
        "  down_parameters,\n",
        "  right_parameters,\n",
        "  mdp,\n",
        "  policy,\n",
        "  alpha_start=-0.0,\n",
        "  alpha_end=1.0,\n",
        "  n_alphas=100,\n",
        "  w_ent=0.05\n",
        ")\n",
        "plt.plot(alphas, Vpi, label=r'$\\tau=0.0$')\n",
        "plt.plot(alphas, Vpi_reg, label=r'$\\tau=0.05$')\n",
        "\n",
        "alphas, _, Vpi_reg, _ = interpolate_between_policy_parameters(\n",
        "  down_parameters,\n",
        "  right_parameters,\n",
        "  mdp,\n",
        "  policy,\n",
        "  alpha_start=-0.0,\n",
        "  alpha_end=1.0,\n",
        "  n_alphas=100,\n",
        "  w_ent=0.01\n",
        ")\n",
        "plt.plot(alphas, Vpi_reg, label=r'$\\tau=0.01$')\n",
        "\n",
        "\n",
        "alphas, Vpi, Vpi_reg, V_pi_ent = interpolate_between_policy_parameters(\n",
        "  down_parameters,\n",
        "  right_parameters,\n",
        "  mdp,\n",
        "  policy,\n",
        "  alpha_start=-0.0,\n",
        "  alpha_end=1.0,\n",
        "  n_alphas=100,\n",
        "  w_ent=0.001\n",
        ")\n",
        "plt.plot(alphas, Vpi_reg, label=r'$\\tau=0.001$')\n",
        "\n",
        "\n",
        "alphas, Vpi, Vpi_reg, V_pi_ent = interpolate_between_policy_parameters(\n",
        "  down_parameters,\n",
        "  right_parameters,\n",
        "  mdp,\n",
        "  policy,\n",
        "  alpha_start=-0.0,\n",
        "  alpha_end=1.0,\n",
        "  n_alphas=100,\n",
        "  w_ent=0.1\n",
        ")\n",
        "plt.plot(alphas, Vpi_reg, label=r'$\\tau=0.1$')\n",
        "\n",
        "\n",
        "alphas, Vpi, Vpi_reg, V_pi_ent = interpolate_between_policy_parameters(\n",
        "  down_parameters,\n",
        "  right_parameters,\n",
        "  mdp,\n",
        "  policy,\n",
        "  alpha_start=-0.0,\n",
        "  alpha_end=1.0,\n",
        "  n_alphas=100,\n",
        "  w_ent=0.5\n",
        ")\n",
        "plt.plot(alphas, Vpi_reg, label=r'$\\tau=0.5$')\n",
        "\n",
        "plt.legend()\n",
        "plt.xlabel(r'$\\alpha$')\n",
        "plt.ylabel('Discounted Return')\n",
        "# plt.semilogy()\n",
        "plt.title('{}x{}, eps={}'.format(mdp.size, mdp.size, eps))\n",
        "plt.ylim(0, 7.)\n",
        "# plt.semilogy()"
      ],
      "execution_count": 0,
      "outputs": []
    },
    {
      "metadata": {
        "id": "f8Cj4E4kX9Ha",
        "colab_type": "text"
      },
      "cell_type": "markdown",
      "source": [
        "### Interpolating parameters found during optimization"
      ]
    },
    {
      "metadata": {
        "id": "em8NS0izaEoH",
        "colab_type": "text"
      },
      "cell_type": "markdown",
      "source": [
        "Here we supplied pre-trained parameters. Alternatively, you can train parameters from above and use `nn.utils.parameters_to_vector` to get the parameters."
      ]
    },
    {
      "metadata": {
        "id": "TXc0xuJEaXS8",
        "colab_type": "text"
      },
      "cell_type": "markdown",
      "source": [
        "#### Preloaded:"
      ]
    },
    {
      "metadata": {
        "id": "FhlK7WSYZStq",
        "colab_type": "code",
        "colab": {}
      },
      "cell_type": "code",
      "source": [
        "# Paste the string here:\n",
        "trained_parameters = json.loads('{\"starting_parameters\": [0.12953545153141022, -0.14665135741233826, 0.1598227471113205, 0.12548570334911346, 0.16477812826633453, -0.15036411583423615, -0.13163647055625916, 0.09331966936588287, -0.1830686628818512, 0.19383521378040314, 0.04174472391605377, 0.025326937437057495, -0.1677137315273285, 0.06249786913394928, 0.0843321830034256, 0.031114831566810608, 0.18863506615161896, 0.05889706313610077, -0.1739024966955185, 0.1647813767194748, 0.06658722460269928, -0.0935579389333725, -0.18014630675315857, 0.11180023849010468, 0.18637360632419586, -0.16068020462989807, 0.010717883706092834, 0.07036106288433075, -0.09261362254619598, -0.042911678552627563, -0.1309525966644287, -0.09271744638681412, -0.17879265546798706, -0.0045451819896698, 0.11628229916095734, 0.0953855961561203, 0.1842331439256668, -0.1722395271062851, -0.024130523204803467, 0.19094456732273102, 0.03211390972137451, -0.05530427396297455, -0.1766241043806076, 0.09126152098178864, 0.14888595044612885, 0.15726040303707123, 0.16418035328388214, 0.03839506208896637, 0.13977943360805511, -0.04936531186103821, 0.15926964581012726, -0.016779333353042603, -0.04044272005558014, -0.09748703986406326, 0.1044183224439621, 0.07934962213039398, 0.12474586069583893, -0.12533161044120789, -0.10427488386631012, 0.18558941781520844, -0.10885253548622131, -0.11184853315353394, -0.05247294902801514, -0.06338660418987274, -0.13337284326553345, 0.15848825871944427, 0.021860331296920776, 0.08941210806369781, 0.14546768367290497, -0.1270827203989029, 0.1497122198343277, -0.09824514389038086, -0.03122343122959137, 0.14841528236865997, 0.18081407248973846, 0.17216111719608307, 0.11279164254665375, 0.18228311836719513, -0.07066170871257782, -0.012482553720474243, -0.06707793474197388, -0.014414221048355103, -0.02384650707244873, 0.10477997362613678, 0.1347990185022354, -0.14122581481933594, -0.10829522460699081, -0.06031635403633118, 0.026216447353363037, -0.07612873613834381, -0.12197497487068176, -0.035819441080093384, -0.09570575505495071, 0.005399346351623535, -0.14517679810523987, -0.04902566969394684, -0.07236139476299286, -0.027090266346931458, 0.15409357845783234, 0.12859784066677094, -0.06328770518302917, -0.1798037439584732, -0.14027941226959229, -0.15045714378356934, -0.01860789954662323, -0.08709283918142319, -0.13705551624298096, 0.04348272085189819], \"entropy_solution_parameters\": [-2.4071104526519775, -0.6339222192764282, -0.38130468130111694, -0.32543861865997314, 0.6272847652435303, -0.15418219566345215, -0.23199541866779327, 0.010044868104159832, -0.04692986607551575, 0.33429327607154846, 0.08532655984163284, -0.062207769602537155, -0.10459178686141968, 0.26150500774383545, 0.40296870470046997, 0.04159887507557869, 0.009114423766732216, -0.0071264393627643585, 0.019146669656038284, 0.66889888048172, 0.07024828344583511, -0.4967128038406372, -0.3671402633190155, 0.0446770116686821, 0.9111409783363342, 0.944366991519928, 2.206111431121826, 1.311779499053955, 1.3837469816207886, 1.431166410446167, -0.6516578197479248, 0.5903519988059998, -0.00859560165554285, -0.07923262566328049, -0.559516429901123, -0.809537410736084, 0.974463164806366, -0.04554970562458038, -0.21918955445289612, -0.2548304498195648, -0.6276916861534119, 0.6341692805290222, 0.03605223447084427, 0.040241971611976624, -0.16510434448719025, -0.33172059059143066, 0.175985649228096, 0.555844247341156, 0.35639089345932007, -0.02566400170326233, -0.8447445631027222, -1.7143621444702148, 0.18187521398067474, -1.007821798324585, -0.9656375050544739, -0.9135385155677795, -0.4777333438396454, 0.05547738075256348, -0.2949208915233612, -0.036135513335466385, 0.1955120861530304, 0.18222320079803467, 0.24898937344551086, -0.02696746215224266, -0.0875537246465683, 0.1780528575181961, 0.03929438069462776, 0.41334596276283264, 0.30491745471954346, 0.058033548295497894, 0.25648725032806396, 0.28641533851623535, 0.004485628101974726, 0.45748424530029297, 0.46358150243759155, 0.4961199462413788, 2.1170248985290527, -0.7526751756668091, 0.04826126992702484, 0.14369264245033264, 0.06775309145450592, -0.044664036482572556, 0.6368253231048584, -0.7552773356437683, 0.25561070442199707, 0.23846885561943054, 0.12699873745441437, 0.4100925028324127, -1.1090471744537354, -0.15170696377754211, -0.035854119807481766, 0.19138823449611664, 0.22801657021045685, -1.0184937715530396, -0.33778461813926697, -0.11709599941968918, -0.05820212885737419, -0.42688021063804626, 0.10291921347379684, -0.2947700321674347, -0.37566569447517395, -0.4603385329246521, -1.8653017282485962, 1.376688838005066, -1.3078018426895142, 2.709700584411621, 0.4778481721878052, -2.079341173171997], \"mix_solution_parameters\": [-0.04222581163048744, -0.41152551770210266, -0.20728088915348053, -0.21584230661392212, 0.16477812826633453, -0.18398310244083405, -0.20753252506256104, -0.023050449788570404, -0.2872695326805115, 0.054251134395599365, 0.025002365931868553, 0.018070627003908157, -0.1908341944217682, 0.018300063908100128, 0.025450337678194046, 0.021818391978740692, 0.2416318655014038, 0.08348216861486435, -0.17670966684818268, 0.14838582277297974, 0.06658722460269928, -0.011677736416459084, -0.13624095916748047, 0.12912030518054962, 0.1844017654657364, -0.16068020462989807, 0.9793394207954407, 1.1108957529067993, 1.1334197521209717, 1.1552826166152954, -0.1309526413679123, -0.058913856744766235, -0.06656398624181747, 0.08598251640796661, 0.14358647167682648, -0.5179622769355774, 0.13171762228012085, -0.18680301308631897, -0.017113810405135155, 0.16063877940177917, -0.16963273286819458, -0.1329602152109146, -0.23137490451335907, 0.05856401100754738, 0.10711031407117844, 0.07297203689813614, 0.16418035328388214, -0.019177136942744255, 0.09869349002838135, -0.080692820250988, 0.12002801895141602, -0.016779333353042603, -0.5417804718017578, -0.5392649173736572, -0.4044460356235504, -0.3894496560096741, 0.12474608421325684, -0.13486377894878387, -0.04711902514100075, 0.3319149613380432, 0.14060840010643005, 0.882210910320282, -0.09444563835859299, -0.05440719425678253, -0.06630910187959671, 0.3192800283432007, 0.4274093806743622, 0.015373803675174713, 0.11534786969423294, -0.10811450332403183, 0.23038552701473236, 0.06555300205945969, -0.03122342936694622, 0.12367444485425949, 0.18078698217868805, 0.19433780014514923, 0.16399265825748444, 0.18228311836719513, -0.36618274450302124, -0.3463658094406128, -0.41714417934417725, -0.4024795889854431, -0.023846546187996864, 0.1141275018453598, 0.04131065309047699, -0.26170894503593445, -0.2808597981929779, -0.30144429206848145, 0.1374484747648239, -0.06328817456960678, -0.17293329536914825, -0.12210756540298462, -0.24062594771385193, 0.1663905382156372, -0.11330067366361618, -0.0598813034594059, -0.10844947397708893, -0.0902029424905777, 0.15409357845783234, 0.1290307193994522, -0.06608003377914429, -0.1879730522632599, -0.15026453137397766, -0.15045714378356934, -1.5933376550674438, 3.244297981262207, 0.18794181942939758, -2.0381717681884766], \"no_entropy_solution_parameters\": [-0.3400079309940338, -0.14594313502311707, 0.12263433635234833, 0.07396479696035385, 0.16477812826633453, -0.4692530035972595, -0.08665252476930618, 0.09445369988679886, -0.20551902055740356, 0.1648290753364563, -0.31277790665626526, 0.16572043299674988, -0.13172750174999237, 0.06548124551773071, 0.07619635760784149, -0.31205999851226807, 0.48802250623703003, 0.15267165005207062, -0.14690528810024261, 0.17019957304000854, 0.06658726185560226, 0.7077499032020569, 0.0400044284760952, 0.18074291944503784, 0.20334313809871674, -0.16068020462989807, -0.3674681484699249, 0.0735325962305069, -0.016623426228761673, 0.0573720782995224, -0.1309525966644287, -0.4315754771232605, -0.22173243761062622, 0.011211346834897995, 0.14753097295761108, 0.09189484268426895, -0.27022770047187805, -0.2746601402759552, -0.0474553145468235, 0.18727444112300873, 0.027764450758695602, -0.47254082560539246, -0.29977452754974365, 0.03748564049601555, 0.12643708288669586, 0.1513422578573227, 0.16418035328388214, -0.17657917737960815, 0.04535023868083954, -0.08214152604341507, 0.15244750678539276, -0.016779333353042603, -0.196068674325943, -0.11714369803667068, 0.09461629390716553, 0.07534769922494888, 0.12474585324525833, -0.4059675931930542, -0.14968906342983246, 0.18734602630138397, -0.07570943236351013, -0.035294193774461746, -0.35024622082710266, -0.13468337059020996, -0.1373731791973114, 0.18498362600803375, 0.06330785155296326, -0.2551601827144623, 0.06012118607759476, -0.1407390534877777, 0.15895570814609528, -0.0822402685880661, -0.031223401427268982, 0.08127143979072571, 0.159535214304924, 0.1623416692018509, 0.11310655623674393, 0.18228311836719513, 0.9326921105384827, 0.0032943233381956816, -0.09607665240764618, -0.05917547643184662, -0.02384650893509388, 1.0431625843048096, 0.1781689077615738, -0.15987105667591095, -0.15023568272590637, -0.10437393188476562, 1.132974624633789, -0.04280523955821991, -0.13063457608222961, -0.061626724898815155, -0.12466806918382645, 1.110382080078125, -0.2360665649175644, -0.07536618411540985, -0.0861491709947586, -0.042595624923706055, 0.1540926992893219, -0.39059120416641235, -0.16773048043251038, -0.20615121722221375, -0.150738924741745, -0.15045714378356934, 0.10610250383615494, -2.183878183364868, -1.3621299266815186, 3.240630626678467]}')\n",
        "make_torch_ready = lambda float_list: torch.FloatTensor(float_list)\n",
        "trained_parameters = {k: make_torch_ready(v) for k, v in trained_parameters.items()}"
      ],
      "execution_count": 0,
      "outputs": []
    },
    {
      "metadata": {
        "id": "Vy2E9igiaY8f",
        "colab_type": "text"
      },
      "cell_type": "markdown",
      "source": [
        "#### Fresh Training"
      ]
    },
    {
      "metadata": {
        "id": "XKsxIO4maZxE",
        "colab_type": "code",
        "colab": {}
      },
      "cell_type": "code",
      "source": [
        "# Get starting parameters.\n",
        "torch.manual_seed(5)\n",
        "policy = get_simple_policy(mdp)\n",
        "starting_parameters = nn.utils.parameters_to_vector(policy.parameters()).clone()\n",
        "\n",
        "\n",
        "# Get parameters after optimizing for with no entropy. NOTE THIS SHOULD BE A SUBOPTIMAL POLICY.\n",
        "policy = get_simple_policy(mdp)\n",
        "nn.utils.vector_to_parameters(starting_parameters.clone(), policy.parameters())\n",
        "train(\n",
        "  mdp, policy, learn_updates=2000, w_ent=0.0, print_freq=500)\n",
        "no_ent_parameters = nn.utils.parameters_to_vector(policy.parameters()).clone()\n",
        "\n",
        "\n",
        "# Reset the original parameters.\n",
        "policy = get_simple_policy(mdp)\n",
        "nn.utils.vector_to_parameters(starting_parameters.clone(), policy.parameters())\n",
        "# Now optimize with entropy + decay\n",
        "train(\n",
        "  mdp, policy, learn_updates=2000, w_ent=1.0, w_ent_decay=0.99, print_interval=500)\n",
        "ent_parameters = nn.utils.parameters_to_vector(policy.parameters()).clone()\n",
        "\n",
        "# Saving parameters for later:\n",
        "\n",
        "make_json_ready = lambda pyt_vec: [\n",
        "  np.asscalar(x) for x in pyt_vec.detach().numpy()] \n",
        "\n",
        "trained_parameters = {\n",
        "  'starting_parameters': make_json_ready(starting_parameters),\n",
        "  'entropy_solution_parameters': make_json_ready(ent_parameters),\n",
        "  'no_entropy_solution_parameters': make_json_ready(no_ent_parameters)\n",
        "}\n",
        "json.dumps(trained_parameters)  # Copy this string."
      ],
      "execution_count": 0,
      "outputs": []
    },
    {
      "metadata": {
        "id": "h_uMKdueat6C",
        "colab_type": "text"
      },
      "cell_type": "markdown",
      "source": [
        "#### Visualizations"
      ]
    },
    {
      "metadata": {
        "id": "_lc2BEm8atmD",
        "colab_type": "code",
        "colab": {
          "base_uri": "https://localhost:8080/",
          "height": 35
        },
        "outputId": "93a01875-0980-461d-b727-c36aafadbd55"
      },
      "cell_type": "code",
      "source": [
        "starting_parameters = trained_parameters['starting_parameters']\n",
        "ent_parameters = trained_parameters['entropy_solution_parameters']\n",
        "no_ent_parameters = trained_parameters['no_entropy_solution_parameters']\n",
        "\n",
        "sns.set_context('paper', font_scale=1.5)\n",
        "sns.set_palette('colorblind',desat=True)\n",
        "\n",
        "ent_normalization = np.linalg.norm(\n",
        "  starting_parameters.detach().numpy() - ent_parameters.detach().numpy())\n",
        "no_ent_normalization = np.linalg.norm(\n",
        "  starting_parameters.detach().numpy() - no_ent_parameters.detach().numpy())\n",
        "\n",
        "# Normalization for the x-axis.\n",
        "print(ent_normalization, no_ent_normalization)"
      ],
      "execution_count": 9,
      "outputs": [
        {
          "output_type": "stream",
          "text": [
            "7.917192 4.821064\n"
          ],
          "name": "stdout"
        }
      ]
    },
    {
      "metadata": {
        "id": "UaAW2ggIa4D3",
        "colab_type": "text"
      },
      "cell_type": "markdown",
      "source": [
        "##### Interpolation From the Start to The solution"
      ]
    },
    {
      "metadata": {
        "id": "8ZraAhr3a3XG",
        "colab_type": "code",
        "colab": {
          "base_uri": "https://localhost:8080/",
          "height": 288
        },
        "outputId": "d76a7a1a-91a7-4fa6-8f8f-155bb9420b70"
      },
      "cell_type": "code",
      "source": [
        "plt.figure(figsize=(5,4))\n",
        "policy = Policy(mdp.state_space, mdp.action_space)\n",
        "alpha, Vpi, Vpi_ent, _ = interpolate_between_policy_parameters(\n",
        "  starting_parameters.detach(),\n",
        "  no_ent_parameters.detach(),\n",
        "  mdp,\n",
        "  policy,\n",
        "  w_ent=0.001,\n",
        "  alpha_start=0.0,\n",
        "  alpha_end=1.0)\n",
        "plt.plot(\n",
        "  alpha * no_ent_normalization, Vpi, label='Path to No Entropy Solution',\n",
        "  linestyle='--', color='k')\n",
        "plt.plot(\n",
        "  alpha * no_ent_normalization , Vpi_ent, label=r'$\\tau=0.001$',\n",
        "  linestyle='--', color='g')\n",
        "\n",
        "policy = Policy(mdp.state_space, mdp.action_space, mix_coeff=0.2)\n",
        "\n",
        "alpha, Vpi,V_pi_ent, _ = interpolate_between_policy_parameters(\n",
        "  starting_parameters.detach(),\n",
        "  ent_parameters.detach(),\n",
        "  mdp,\n",
        "  policy,\n",
        "  w_ent=0.001,\n",
        "  alpha_start=0.0,\n",
        "  alpha_end=1.0)\n",
        "\n",
        "plt.plot(\n",
        "  alpha * ent_normalization, Vpi, label='Path to Entropy Solution', color='k')\n",
        "plt.plot(\n",
        "  alpha * ent_normalization, V_pi_ent, label=r'$\\tau=0.001$', color='g')\n",
        "\n",
        "\n",
        "# plt.plot(alpha, Vpi_ent, label='Entropy 0.1')\n",
        "plt.xlabel(r'Scaled Interpolation Coefficient, $\\alpha ||\\theta_0 - \\theta^*||$')\n",
        "plt.ylabel(r'Return, $V^\\pi$')\n",
        "plt.legend()\n",
        "plt.title('Interpolation from Start --> Solution')\n",
        "\n",
        "plt.tight_layout()\n"
      ],
      "execution_count": 12,
      "outputs": [
        {
          "output_type": "display_data",
          "data": {
            "image/png": "[encoded data removed]",
            "text/plain": [
              "<matplotlib.figure.Figure at 0x7f0688455208>"
            ]
          },
          "metadata": {
            "tags": []
          }
        }
      ]
    },
    {
      "metadata": {
        "id": "o1zUbjmXbZLU",
        "colab_type": "text"
      },
      "cell_type": "markdown",
      "source": [
        "##### Interpolation between solutions"
      ]
    },
    {
      "metadata": {
        "id": "Ce9V_42ibav1",
        "colab_type": "code",
        "colab": {
          "base_uri": "https://localhost:8080/",
          "height": 288
        },
        "outputId": "c29c4c5e-aaff-44de-dc08-535d7d513b14"
      },
      "cell_type": "code",
      "source": [
        "plt.figure(figsize=(5,4))\n",
        "\n",
        "w_ent = 0.01\n",
        "mix_coeff = 0.8\n",
        "\n",
        "policy = Policy(mdp.state_space, mdp.action_space)\n",
        "\n",
        "alpha, Vpi, Vpi_ent, _ = interpolate_between_policy_parameters(\n",
        "  no_ent_parameters.detach(), ent_parameters.detach(), mdp, policy, \n",
        "  w_ent=w_ent, alpha_start=0.0, alpha_end=1.0)\n",
        "\n",
        "\n",
        "plt.plot(alpha, Vpi, label=r'$\\tau=0.0,$ Mix=0.0', color='k')\n",
        "plt.plot(alpha, Vpi_ent, label=r'$\\tau={},$ Mix=0.0'.format(w_ent))\n",
        "\n",
        "policy = Policy(mdp.state_space, mdp.action_space, mix_coeff=mix_coeff)\n",
        "\n",
        "alpha, V_pi_mix_only, Vpi_ent, _ = interpolate_between_policy_parameters(\n",
        "  no_ent_parameters.detach(), ent_parameters.detach(), mdp, policy, \n",
        "  w_ent=w_ent, alpha_start=0.0, alpha_end=1.0)\n",
        "\n",
        "plt.plot(alpha, Vpi_ent, label=r'$\\tau={},$ Mix={}'.format(w_ent, mix_coeff))\n",
        "plt.plot(alpha, V_pi_mix_only, label=r'$\\tau=0.0,$ Mix={}'.format(mix_coeff))\n",
        "\n",
        "\n",
        "plt.xlabel(r'Interpolation coefficient, $\\alpha$')\n",
        "plt.ylabel(r'Return, $V^\\pi$')\n",
        "plt.title('Interpolation from \\nNo Entropy Solution --> Entropy Solution')\n",
        "# plt.ylim(3.0, 5.0)\n",
        "plt.legend(loc='upper left', fontsize='x-small')\n",
        "plt.tight_layout()\n",
        "# plt.savefig('no_ent_ent_combos_small_ent1.pdf')"
      ],
      "execution_count": 13,
      "outputs": [
        {
          "output_type": "display_data",
          "data": {
            "image/png": "[encoded data removed]",
            "text/plain": [
              "<matplotlib.figure.Figure at 0x7f0688398da0>"
            ]
          },
          "metadata": {
            "tags": []
          }
        }
      ]
    },
    {
      "metadata": {
        "id": "0adY1AbFcjed",
        "colab_type": "code",
        "colab": {}
      },
      "cell_type": "code",
      "source": [
        ""
      ],
      "execution_count": 0,
      "outputs": []
    }
  ]
}